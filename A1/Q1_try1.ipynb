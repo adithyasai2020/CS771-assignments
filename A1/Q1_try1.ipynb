{
 "cells": [
  {
   "cell_type": "code",
   "execution_count": 5,
   "metadata": {},
   "outputs": [],
   "source": [
    "import numpy as np\n",
    "import tensorflow as tf\n",
    "import matplotlib.pyplot as plt"
   ]
  },
  {
   "cell_type": "code",
   "execution_count": 10,
   "metadata": {},
   "outputs": [],
   "source": [
    "class HingeLossPerceptron(tf.keras.Model):\n",
    "  def __init__(self, input_dim, output_dim):\n",
    "    super(HingeLossPerceptron, self).__init__()\n",
    "    self.w = tf.Variable(tf.random.normal((input_dim, output_dim)))\n",
    "    self.b = tf.Variable(tf.zeros((output_dim,)))\n",
    "    self.t = tf.Variable(1.0)  # Learnable thresholds\n",
    "\n",
    "  def call(self, x):\n",
    "    # Apply linear transformation\n",
    "    z = tf.matmul(x, self.w) + self.b\n",
    "    # Apply hinge loss\n",
    "    return (tf.math.sign(tf.abs(z) - self.t) + 1)/2\n",
    "\n",
    "# Define model with input dimension (32 for your case) and output dimension (binary classification assumed)\n",
    "model = HingeLossPerceptron(32, 1)\n"
   ]
  },
  {
   "cell_type": "code",
   "execution_count": 2,
   "metadata": {},
   "outputs": [],
   "source": [
    "train_data = np.loadtxt(\"train.dat\", delimiter=\" \")\n",
    "trainX, trainY = train_data.transpose()[:-1].transpose(), train_data.transpose()[-1].transpose()\n",
    "trainX = 1-2*trainX\n",
    "trainX = np.cumprod(trainX[:, ::-1], axis=1)[:, ::-1]"
   ]
  },
  {
   "cell_type": "code",
   "execution_count": 12,
   "metadata": {},
   "outputs": [],
   "source": [
    "def sign_hinge_loss(y_true, y_pred):\n",
    "  # Calculate absolute value and subtract threshold\n",
    "  margin = tf.abs(y_pred) - 1.0\n",
    "  # Apply sign function and calculate hinge loss\n",
    "  return tf.reduce_mean(tf.maximum(0.0, 1.0 - y_true * tf.math.sign(margin)))\n"
   ]
  },
  {
   "cell_type": "code",
   "execution_count": 13,
   "metadata": {},
   "outputs": [
    {
     "name": "stdout",
     "output_type": "stream",
     "text": [
      "Epoch 1/10\n",
      "1250/1250 [==============================] - 6s 4ms/step - loss: 1.0744 - sign_hinge_loss: 1.0744\n",
      "Epoch 2/10\n",
      "1250/1250 [==============================] - 5s 4ms/step - loss: 1.0744 - sign_hinge_loss: 1.0744\n",
      "Epoch 3/10\n",
      "1250/1250 [==============================] - 4s 3ms/step - loss: 1.0744 - sign_hinge_loss: 1.0744\n",
      "Epoch 4/10\n",
      "1250/1250 [==============================] - 5s 4ms/step - loss: 1.0744 - sign_hinge_loss: 1.0744\n",
      "Epoch 5/10\n",
      "1250/1250 [==============================] - 5s 4ms/step - loss: 1.0744 - sign_hinge_loss: 1.0744\n",
      "Epoch 6/10\n",
      "1250/1250 [==============================] - 3s 3ms/step - loss: 1.0744 - sign_hinge_loss: 1.0744\n",
      "Epoch 7/10\n",
      "1250/1250 [==============================] - 2s 2ms/step - loss: 1.0744 - sign_hinge_loss: 1.0744\n",
      "Epoch 8/10\n",
      "1250/1250 [==============================] - 3s 3ms/step - loss: 1.0744 - sign_hinge_loss: 1.0744\n",
      "Epoch 9/10\n",
      "1250/1250 [==============================] - 2s 2ms/step - loss: 1.0744 - sign_hinge_loss: 1.0744\n",
      "Epoch 10/10\n",
      "1250/1250 [==============================] - 5s 4ms/step - loss: 1.0744 - sign_hinge_loss: 1.0744\n"
     ]
    },
    {
     "data": {
      "text/plain": [
       "<keras.src.callbacks.History at 0x1900fdf5c70>"
      ]
     },
     "execution_count": 13,
     "metadata": {},
     "output_type": "execute_result"
    }
   ],
   "source": [
    "# Compile the model\n",
    "model.compile(loss=sign_hinge_loss, optimizer='adam', metrics=[sign_hinge_loss])\n",
    "\n",
    "\n",
    "# Train the model\n",
    "model.fit(trainX, trainY, validation_batch_size=0.2, epochs=10, batch_size=32)\n"
   ]
  },
  {
   "cell_type": "code",
   "execution_count": 18,
   "metadata": {},
   "outputs": [
    {
     "data": {
      "text/plain": [
       "<tf.Variable 'Variable:0' shape=(1,) dtype=float32, numpy=array([0.], dtype=float32)>"
      ]
     },
     "execution_count": 18,
     "metadata": {},
     "output_type": "execute_result"
    }
   ],
   "source": [
    "model.b"
   ]
  },
  {
   "cell_type": "code",
   "execution_count": null,
   "metadata": {},
   "outputs": [],
   "source": []
  },
  {
   "cell_type": "code",
   "execution_count": 27,
   "metadata": {},
   "outputs": [
    {
     "name": "stdout",
     "output_type": "stream",
     "text": [
      "Epoch 1/10\n",
      "1000/1000 [==============================] - 7s 5ms/step - loss: 0.4653 - accuracy: 0.7948 - val_loss: 0.2038 - val_accuracy: 0.9588\n",
      "Epoch 2/10\n",
      "1000/1000 [==============================] - 5s 5ms/step - loss: 0.1426 - accuracy: 0.9716 - val_loss: 0.1090 - val_accuracy: 0.9756\n",
      "Epoch 3/10\n",
      "1000/1000 [==============================] - 6s 6ms/step - loss: 0.0903 - accuracy: 0.9806 - val_loss: 0.0818 - val_accuracy: 0.9775\n",
      "Epoch 4/10\n",
      "1000/1000 [==============================] - 5s 5ms/step - loss: 0.0694 - accuracy: 0.9834 - val_loss: 0.0679 - val_accuracy: 0.9801\n",
      "Epoch 5/10\n",
      "1000/1000 [==============================] - 3s 3ms/step - loss: 0.0578 - accuracy: 0.9854 - val_loss: 0.0586 - val_accuracy: 0.9805\n",
      "Epoch 6/10\n",
      "1000/1000 [==============================] - 2s 2ms/step - loss: 0.0501 - accuracy: 0.9867 - val_loss: 0.0547 - val_accuracy: 0.9808\n",
      "Epoch 7/10\n",
      "1000/1000 [==============================] - 3s 3ms/step - loss: 0.0443 - accuracy: 0.9887 - val_loss: 0.0489 - val_accuracy: 0.9827\n",
      "Epoch 8/10\n",
      "1000/1000 [==============================] - 3s 3ms/step - loss: 0.0403 - accuracy: 0.9891 - val_loss: 0.0445 - val_accuracy: 0.9845\n",
      "Epoch 9/10\n",
      "1000/1000 [==============================] - 3s 3ms/step - loss: 0.0370 - accuracy: 0.9899 - val_loss: 0.0428 - val_accuracy: 0.9839\n",
      "Epoch 10/10\n",
      "1000/1000 [==============================] - 5s 5ms/step - loss: 0.0344 - accuracy: 0.9900 - val_loss: 0.0412 - val_accuracy: 0.9837\n",
      "250/250 [==============================] - 0s 2ms/step - loss: 0.0412 - accuracy: 0.9837\n",
      "Test Accuracy: 0.9837499856948853\n",
      "250/250 [==============================] - 1s 2ms/step\n"
     ]
    }
   ],
   "source": [
    "import numpy as np\n",
    "from sklearn.model_selection import train_test_split\n",
    "from tensorflow.keras.models import Sequential\n",
    "from tensorflow.keras.layers import Dense\n",
    "\n",
    "\n",
    "model = Sequential([\n",
    "    Dense(1, activation='relu', input_shape=(32,))\n",
    "    # Dense(1, activation='sigmoid')  # Output layer with sigmoid activation\n",
    "])\n",
    "\n",
    "# Step 3: Split Data\n",
    "\n",
    "X_train, X_val, Y_train, Y_val = train_test_split(trainX, trainY, test_size=0.2, random_state=42)\n",
    "\n",
    "# Step 4: Train Model\n",
    "\n",
    "model.compile(optimizer='adam', loss='binary_crossentropy', metrics=['accuracy'])\n",
    "model.fit(X_train, Y_train, epochs=10, batch_size=32, validation_data=(X_val, Y_val))\n",
    "\n",
    "# Step 5: Evaluate Model\n",
    "\n",
    "loss, accuracy = model.evaluate(X_val, Y_val)\n",
    "print(\"Test Accuracy:\", accuracy)\n",
    "\n",
    "# You can also make predictions using the trained model\n",
    "predictions = model.predict(X_val)\n"
   ]
  },
  {
   "cell_type": "code",
   "execution_count": 3,
   "metadata": {},
   "outputs": [],
   "source": [
    "test_data = np.loadtxt(\"test.dat\", delimiter=\" \")\n",
    "testX, testY = test_data.transpose()[:-1].transpose(), test_data.transpose()[-1].transpose()\n",
    "testX = 1-2*testX\n",
    "testX = np.cumprod(testX[:, ::-1], axis=1)[:, ::-1]"
   ]
  },
  {
   "cell_type": "code",
   "execution_count": 36,
   "metadata": {},
   "outputs": [
    {
     "data": {
      "text/plain": [
       "((10000, 32), (10000,))"
      ]
     },
     "execution_count": 36,
     "metadata": {},
     "output_type": "execute_result"
    }
   ],
   "source": [
    "testX.shape, testY.shape"
   ]
  },
  {
   "cell_type": "code",
   "execution_count": 37,
   "metadata": {},
   "outputs": [
    {
     "name": "stdout",
     "output_type": "stream",
     "text": [
      "313/313 [==============================] - 1s 2ms/step - loss: 0.0424 - accuracy: 0.9848\n",
      "Test Accuracy: 0.9847999811172485\n",
      "313/313 [==============================] - 1s 2ms/step\n"
     ]
    }
   ],
   "source": [
    "\n",
    "loss, accuracy = model.evaluate(testX, testY)\n",
    "print(\"Test Accuracy:\", accuracy)\n",
    "\n",
    "# You can also make predictions using the trained model\n",
    "predictions = model.predict(testX)"
   ]
  },
  {
   "cell_type": "code",
   "execution_count": 38,
   "metadata": {},
   "outputs": [
    {
     "data": {
      "text/plain": [
       "array([[9.9725968e-01],\n",
       "       [8.1889523e-04],\n",
       "       [9.7729259e-14],\n",
       "       ...,\n",
       "       [1.0791683e-08],\n",
       "       [2.8741183e-06],\n",
       "       [9.9999756e-01]], dtype=float32)"
      ]
     },
     "execution_count": 38,
     "metadata": {},
     "output_type": "execute_result"
    }
   ],
   "source": [
    "predictions"
   ]
  },
  {
   "cell_type": "code",
   "execution_count": 6,
   "metadata": {},
   "outputs": [],
   "source": [
    "X = np.linspace(-10, 10, 100)\n"
   ]
  },
  {
   "cell_type": "code",
   "execution_count": 11,
   "metadata": {},
   "outputs": [
    {
     "data": {
      "image/png": "[encoded data removed]",
      "text/plain": [
       "<Figure size 640x480 with 1 Axes>"
      ]
     },
     "metadata": {},
     "output_type": "display_data"
    }
   ],
   "source": [
    "Y1 = (np.abs(X) )\n",
    "Y2 = np.abs(X + 2.28) - 2.28\n",
    "plt.plot(X, Y1, color='r', label='Y1') \n",
    "plt.plot(X, Y2, color='g', label='Y2') \n",
    "  \n",
    "# Naming the x-axis, y-axis and the whole graph \n",
    "plt.xlabel(\"X\") \n",
    "plt.ylabel(\"Y\") \n",
    "plt.title(\"functions\") \n",
    "  \n",
    "# Adding legend, which helps us recognize the curve according to it's color \n",
    "plt.legend() \n",
    "plt.grid()\n",
    "  \n",
    "# To load the display window \n",
    "plt.show() "
   ]
  },
  {
   "cell_type": "code",
   "execution_count": 12,
   "metadata": {},
   "outputs": [],
   "source": [
    "import sklearn"
   ]
  }
 ],
 "metadata": {
  "kernelspec": {
   "display_name": "my_env",
   "language": "python",
   "name": "python3"
  },
  "language_info": {
   "codemirror_mode": {
    "name": "ipython",
    "version": 3
   },
   "file_extension": ".py",
   "mimetype": "text/x-python",
   "name": "python",
   "nbconvert_exporter": "python",
   "pygments_lexer": "ipython3",
   "version": "3.9.7"
  }
 },
 "nbformat": 4,
 "nbformat_minor": 2
}
