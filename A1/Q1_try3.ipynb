{
 "cells": [
  {
   "cell_type": "code",
   "execution_count": 1,
   "metadata": {},
   "outputs": [],
   "source": [
    "import numpy as np\n",
    "from sklearn.linear_model import LogisticRegression\n",
    "from sklearn.svm import LinearSVC\n",
    "from scipy.linalg import khatri_rao\n",
    "\n",
    "#for debug\n",
    "import matplotlib.pyplot as plt\n",
    "import time as tm"
   ]
  },
  {
   "cell_type": "code",
   "execution_count": 2,
   "metadata": {},
   "outputs": [],
   "source": [
    "\n",
    "def my_map(X):\n",
    "    X = 1 - 2* np.array(X)\n",
    "    X = np.cumprod(X[:, ::-1], axis=1)[:, ::-1].transpose()\n",
    "    return np.concatenate((khatri_rao(X, X), X), axis = 0).transpose()\n",
    "\n",
    "\n",
    "def my_fit(X_train, Y_train ):\n",
    "    phi_X = my_map(X_train)\n",
    "    model = LinearSVC(C = 3.4304692863149193, loss='squared_hinge', dual=False)\n",
    "    model.fit(phi_X, np.array(Y_train))\n",
    "    return model.coef_.transpose().flatten(), model.intercept_\n",
    "\n"
   ]
  },
  {
   "cell_type": "code",
   "execution_count": 3,
   "metadata": {},
   "outputs": [
    {
     "data": {
      "text/plain": [
       "array([[ 1.96, -1.4 ]])"
      ]
     },
     "execution_count": 3,
     "metadata": {},
     "output_type": "execute_result"
    }
   ],
   "source": [
    "my_map(np.array([[1.2]]))"
   ]
  },
  {
   "cell_type": "code",
   "execution_count": 4,
   "metadata": {},
   "outputs": [],
   "source": [
    "Z_trn = np.loadtxt( \"dummy/secret_train.dat\" )\n",
    "Z_tst = np.loadtxt( \"dummy/secret_test.dat\" )\n",
    "\n",
    "n_trials = 5\n",
    "\n",
    "d_size = 0\n",
    "t_train = 0\n",
    "t_map = 0\n",
    "acc = 0"
   ]
  },
  {
   "cell_type": "code",
   "execution_count": 5,
   "metadata": {},
   "outputs": [],
   "source": [
    "train_data = np.loadtxt(\"dummy\\secret_train.dat\", delimiter=\" \")\n",
    "trainX, trainY = train_data.transpose()[:-1].transpose(), train_data.transpose()[-1].transpose()\n",
    "\n",
    "test_data = np.loadtxt(\"dummy\\secret_test.dat\", delimiter=\" \")\n",
    "testX, testY = test_data.transpose()[:-1].transpose(), test_data.transpose()[-1].transpose()"
   ]
  },
  {
   "cell_type": "code",
   "execution_count": null,
   "metadata": {},
   "outputs": [],
   "source": []
  },
  {
   "cell_type": "code",
   "execution_count": 6,
   "metadata": {},
   "outputs": [],
   "source": [
    "for t in range( n_trials ):\n",
    "\ttic = tm.perf_counter()\n",
    "\tw, b = my_fit( Z_trn[:, :-1], Z_trn[:,-1] )\n",
    "\ttoc = tm.perf_counter()\n",
    "\tt_train += toc - tic\n",
    "\td_size += w.shape[0]\n",
    "\n",
    "\ttic = tm.perf_counter()\n",
    "\tfeat = my_map( Z_tst[:, :-1] )\n",
    "\ttoc = tm.perf_counter()\n",
    "\tt_map += toc - tic\n",
    "\n",
    "\tscores = feat.dot( w ) + b\n",
    "\tpred = np.zeros_like( scores )\n",
    "\tpred[scores > 0] = 1\n",
    "\tacc += np.average( Z_tst[ :, -1 ] == pred )"
   ]
  },
  {
   "cell_type": "code",
   "execution_count": 7,
   "metadata": {},
   "outputs": [
    {
     "data": {
      "text/plain": [
       "((10000,), (10000,))"
      ]
     },
     "execution_count": 7,
     "metadata": {},
     "output_type": "execute_result"
    }
   ],
   "source": [
    "pred.shape, Z_tst[ :, -1 ].shape"
   ]
  },
  {
   "cell_type": "code",
   "execution_count": 8,
   "metadata": {},
   "outputs": [
    {
     "name": "stdout",
     "output_type": "stream",
     "text": [
      "1056.0 6.679175140000001 0.07675907999999936 0.00660000000000005\n"
     ]
    }
   ],
   "source": [
    "d_size /= n_trials\n",
    "t_train /= n_trials\n",
    "t_map /= n_trials\n",
    "acc /= n_trials\n",
    "\n",
    "print( d_size, t_train, t_map, 1 - acc )"
   ]
  },
  {
   "cell_type": "code",
   "execution_count": null,
   "metadata": {},
   "outputs": [],
   "source": []
  }
 ],
 "metadata": {
  "kernelspec": {
   "display_name": "my_env",
   "language": "python",
   "name": "python3"
  },
  "language_info": {
   "codemirror_mode": {
    "name": "ipython",
    "version": 3
   },
   "file_extension": ".py",
   "mimetype": "text/x-python",
   "name": "python",
   "nbconvert_exporter": "python",
   "pygments_lexer": "ipython3",
   "version": "3.9.7"
  }
 },
 "nbformat": 4,
 "nbformat_minor": 2
}
